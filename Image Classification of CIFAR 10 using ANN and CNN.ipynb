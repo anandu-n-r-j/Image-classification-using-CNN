{
 "cells": [
  {
   "cell_type": "code",
   "execution_count": 1,
   "id": "1bbc5a08",
   "metadata": {},
   "outputs": [],
   "source": [
    "# Importing the required libraries\n",
    "import tensorflow as tf\n",
    "from tensorflow.keras import datasets,layers,models\n",
    "import matplotlib.pyplot as plt\n",
    "import numpy as np\n",
    "from tensorflow.keras.applications.resnet50 import ResNet50\n",
    "from tensorflow.keras.layers import Dense, GlobalAveragePooling2D\n",
    "from tensorflow.keras.models import Model\n",
    "from tensorflow.keras.optimizers import SGD, Adam\n",
    "from sklearn.model_selection import GridSearchCV\n",
    "from sklearn.metrics import accuracy_score\n",
    "from tensorflow.keras.utils import to_categorical"
   ]
  },
  {
   "cell_type": "code",
   "execution_count": 2,
   "id": "41c612a9",
   "metadata": {},
   "outputs": [
    {
     "data": {
      "text/plain": [
       "(50000, 32, 32, 3)"
      ]
     },
     "execution_count": 2,
     "metadata": {},
     "output_type": "execute_result"
    }
   ],
   "source": [
    "# Load and preprocess CIFAR-10 dataset\n",
    "(x_train, y_train), (x_test, y_test) = datasets.cifar10.load_data()\n",
    "x_train.shape"
   ]
  },
  {
   "cell_type": "code",
   "execution_count": 3,
   "id": "3fc6e99e",
   "metadata": {},
   "outputs": [
    {
     "data": {
      "text/plain": [
       "(10000, 32, 32, 3)"
      ]
     },
     "execution_count": 3,
     "metadata": {},
     "output_type": "execute_result"
    }
   ],
   "source": [
    "x_test.shape"
   ]
  },
  {
   "cell_type": "code",
   "execution_count": 4,
   "id": "20b05d86",
   "metadata": {},
   "outputs": [
    {
     "data": {
      "text/plain": [
       "<matplotlib.image.AxesImage at 0x20adafd1b10>"
      ]
     },
     "execution_count": 4,
     "metadata": {},
     "output_type": "execute_result"
    },
    {
     "data": {
      "image/png": "[encoded data removed]",
      "text/plain": [
       "<Figure size 432x288 with 1 Axes>"
      ]
     },
     "metadata": {
      "needs_background": "light"
     },
     "output_type": "display_data"
    }
   ],
   "source": [
    "plt.imshow(x_train[0])"
   ]
  },
  {
   "cell_type": "code",
   "execution_count": 5,
   "id": "74d4005e",
   "metadata": {},
   "outputs": [
    {
     "data": {
      "text/plain": [
       "array([6], dtype=uint8)"
      ]
     },
     "execution_count": 5,
     "metadata": {},
     "output_type": "execute_result"
    }
   ],
   "source": [
    "y_train[0]"
   ]
  },
  {
   "cell_type": "code",
   "execution_count": 6,
   "id": "3a713eda",
   "metadata": {},
   "outputs": [],
   "source": [
    "y_train = y_train.reshape(-1,)"
   ]
  },
  {
   "cell_type": "code",
   "execution_count": 7,
   "id": "2c6ea05d",
   "metadata": {},
   "outputs": [],
   "source": [
    "y_test = y_test.reshape(-1,)"
   ]
  },
  {
   "cell_type": "code",
   "execution_count": 8,
   "id": "2b691b51",
   "metadata": {},
   "outputs": [
    {
     "data": {
      "text/plain": [
       "6"
      ]
     },
     "execution_count": 8,
     "metadata": {},
     "output_type": "execute_result"
    }
   ],
   "source": [
    "y_train[0]"
   ]
  },
  {
   "cell_type": "code",
   "execution_count": 9,
   "id": "982442a5",
   "metadata": {},
   "outputs": [
    {
     "data": {
      "text/plain": [
       "<matplotlib.image.AxesImage at 0x20ae80c3610>"
      ]
     },
     "execution_count": 9,
     "metadata": {},
     "output_type": "execute_result"
    },
    {
     "data": {
      "image/png": "[encoded data removed]",
      "text/plain": [
       "<Figure size 1080x144 with 1 Axes>"
      ]
     },
     "metadata": {
      "needs_background": "light"
     },
     "output_type": "display_data"
    }
   ],
   "source": [
    "plt.figure(figsize = (15,2))\n",
    "plt.imshow(x_train[0])"
   ]
  },
  {
   "cell_type": "code",
   "execution_count": 10,
   "id": "f51d6ac3",
   "metadata": {},
   "outputs": [],
   "source": [
    "# Defining the classes\n",
    "classes = [\"airplane\",\"automobile\",\"bird\",\"cat\",\"deer\",\"dog\",\"frog\",\"horse\",\"ship\",\"truck\"]"
   ]
  },
  {
   "cell_type": "code",
   "execution_count": 23,
   "id": "f32555de",
   "metadata": {},
   "outputs": [],
   "source": [
    "num_classes = 10"
   ]
  },
  {
   "cell_type": "code",
   "execution_count": 11,
   "id": "36228a96",
   "metadata": {},
   "outputs": [
    {
     "data": {
      "text/plain": [
       "'horse'"
      ]
     },
     "execution_count": 11,
     "metadata": {},
     "output_type": "execute_result"
    }
   ],
   "source": [
    "classes[7]"
   ]
  },
  {
   "cell_type": "code",
   "execution_count": 12,
   "id": "4d383df3",
   "metadata": {},
   "outputs": [],
   "source": [
    "# Defining a function to plot the images\n",
    "def plot_sample(x, y, index):\n",
    "    plt.figure(figsize = (15,2))\n",
    "    plt.imshow(x[index])\n",
    "    plt.xlabel(classes[y[index]])"
   ]
  },
  {
   "cell_type": "code",
   "execution_count": 13,
   "id": "367e154a",
   "metadata": {},
   "outputs": [
    {
     "data": {
      "image/png": "[encoded data removed]",
      "text/plain": [
       "<Figure size 1080x144 with 1 Axes>"
      ]
     },
     "metadata": {
      "needs_background": "light"
     },
     "output_type": "display_data"
    }
   ],
   "source": [
    "plot_sample(x_train, y_train, 2)"
   ]
  },
  {
   "cell_type": "markdown",
   "id": "859f48d5",
   "metadata": {},
   "source": [
    "Normalizing the training data"
   ]
  },
  {
   "cell_type": "code",
   "execution_count": 14,
   "id": "b84dcffd",
   "metadata": {},
   "outputs": [],
   "source": [
    "x_train = x_train / 255.0\n",
    "x_test = x_test / 255.0"
   ]
  },
  {
   "cell_type": "markdown",
   "id": "e6aaf38c",
   "metadata": {},
   "source": [
    "Build Simple ANN for image classification"
   ]
  },
  {
   "cell_type": "code",
   "execution_count": 15,
   "id": "d4376ce4",
   "metadata": {},
   "outputs": [
    {
     "name": "stdout",
     "output_type": "stream",
     "text": [
      "Epoch 1/5\n",
      "1563/1563 [==============================] - 76s 46ms/step - loss: 1.8110 - accuracy: 0.3533\n",
      "Epoch 2/5\n",
      "1563/1563 [==============================] - 69s 44ms/step - loss: 1.6208 - accuracy: 0.4268\n",
      "Epoch 3/5\n",
      "1563/1563 [==============================] - 69s 44ms/step - loss: 1.5394 - accuracy: 0.4584\n",
      "Epoch 4/5\n",
      "1563/1563 [==============================] - 69s 44ms/step - loss: 1.4796 - accuracy: 0.4770\n",
      "Epoch 5/5\n",
      "1563/1563 [==============================] - 69s 44ms/step - loss: 1.4311 - accuracy: 0.4970\n"
     ]
    },
    {
     "data": {
      "text/plain": [
       "<keras.callbacks.History at 0x20ae8149990>"
      ]
     },
     "execution_count": 15,
     "metadata": {},
     "output_type": "execute_result"
    }
   ],
   "source": [
    "ann = models.Sequential([\n",
    "        layers.Flatten(input_shape=(32,32,3)),\n",
    "        layers.Dense(3000, activation='relu'),\n",
    "        layers.Dense(1000, activation='relu'),\n",
    "        layers.Dense(10, activation='softmax')    \n",
    "    ])\n",
    "\n",
    "ann.compile(optimizer='SGD',\n",
    "              loss='sparse_categorical_crossentropy',\n",
    "              metrics=['accuracy'])\n",
    "\n",
    "ann.fit(x_train, y_train, epochs=5)"
   ]
  },
  {
   "cell_type": "code",
   "execution_count": 16,
   "id": "aa10d3dc",
   "metadata": {},
   "outputs": [
    {
     "name": "stdout",
     "output_type": "stream",
     "text": [
      "313/313 [==============================] - 6s 16ms/step\n",
      "Classification Report: \n",
      "               precision    recall  f1-score   support\n",
      "\n",
      "           0       0.79      0.30      0.43      1000\n",
      "           1       0.59      0.63      0.61      1000\n",
      "           2       0.52      0.18      0.26      1000\n",
      "           3       0.31      0.43      0.36      1000\n",
      "           4       0.47      0.37      0.41      1000\n",
      "           5       0.50      0.26      0.35      1000\n",
      "           6       0.39      0.75      0.52      1000\n",
      "           7       0.66      0.42      0.52      1000\n",
      "           8       0.44      0.80      0.57      1000\n",
      "           9       0.49      0.58      0.53      1000\n",
      "\n",
      "    accuracy                           0.47     10000\n",
      "   macro avg       0.52      0.47      0.46     10000\n",
      "weighted avg       0.52      0.47      0.46     10000\n",
      "\n"
     ]
    }
   ],
   "source": [
    "from sklearn.metrics import confusion_matrix , classification_report\n",
    "\n",
    "y_pred = ann.predict(x_test)\n",
    "y_pred_classes = [np.argmax(element) for element in y_pred]\n",
    "\n",
    "print(\"Classification Report: \\n\", classification_report(y_test, y_pred_classes))"
   ]
  },
  {
   "cell_type": "markdown",
   "id": "b3bacb99",
   "metadata": {},
   "source": [
    "Train the model with different optimizers"
   ]
  },
  {
   "cell_type": "code",
   "execution_count": 17,
   "id": "3c07726b",
   "metadata": {},
   "outputs": [
    {
     "name": "stdout",
     "output_type": "stream",
     "text": [
      "Epoch 1/5\n",
      "782/782 [==============================] - 51s 64ms/step - loss: 1.5900 - accuracy: 0.4322 - val_loss: 1.5288 - val_accuracy: 0.4493\n",
      "Epoch 2/5\n",
      "782/782 [==============================] - 51s 65ms/step - loss: 1.5135 - accuracy: 0.4633 - val_loss: 1.4819 - val_accuracy: 0.4768\n",
      "Epoch 3/5\n",
      "782/782 [==============================] - 51s 65ms/step - loss: 1.4504 - accuracy: 0.4824 - val_loss: 1.4132 - val_accuracy: 0.4922\n",
      "Epoch 4/5\n",
      "782/782 [==============================] - 52s 66ms/step - loss: 1.4056 - accuracy: 0.4982 - val_loss: 1.4553 - val_accuracy: 0.4855\n",
      "Epoch 5/5\n",
      "782/782 [==============================] - 52s 66ms/step - loss: 1.3642 - accuracy: 0.5133 - val_loss: 1.4113 - val_accuracy: 0.5007\n",
      "Epoch 1/5\n",
      "782/782 [==============================] - 111s 124ms/step - loss: 2.3906 - accuracy: 0.3032 - val_loss: 1.8016 - val_accuracy: 0.3552\n",
      "Epoch 2/5\n",
      "782/782 [==============================] - 97s 124ms/step - loss: 1.6749 - accuracy: 0.4093 - val_loss: 2.0058 - val_accuracy: 0.3255\n",
      "Epoch 3/5\n",
      "782/782 [==============================] - 98s 125ms/step - loss: 1.5855 - accuracy: 0.4406 - val_loss: 1.6477 - val_accuracy: 0.4121\n",
      "Epoch 4/5\n",
      "782/782 [==============================] - 96s 122ms/step - loss: 1.5302 - accuracy: 0.4599 - val_loss: 1.8530 - val_accuracy: 0.3846\n",
      "Epoch 5/5\n",
      "782/782 [==============================] - 100s 128ms/step - loss: 1.5000 - accuracy: 0.4708 - val_loss: 1.6446 - val_accuracy: 0.4329\n",
      "Epoch 1/5\n",
      "782/782 [==============================] - 73s 82ms/step - loss: 1.4078 - accuracy: 0.4995 - val_loss: 1.4414 - val_accuracy: 0.4931\n",
      "Epoch 2/5\n",
      "782/782 [==============================] - 54s 69ms/step - loss: 1.3553 - accuracy: 0.5140 - val_loss: 1.4278 - val_accuracy: 0.4929\n",
      "Epoch 3/5\n",
      "782/782 [==============================] - 55s 70ms/step - loss: 1.3235 - accuracy: 0.5273 - val_loss: 1.4362 - val_accuracy: 0.4995\n",
      "Epoch 4/5\n",
      "782/782 [==============================] - 58s 74ms/step - loss: 1.2964 - accuracy: 0.5353 - val_loss: 1.4318 - val_accuracy: 0.4930\n",
      "Epoch 5/5\n",
      "782/782 [==============================] - 57s 72ms/step - loss: 1.2685 - accuracy: 0.5463 - val_loss: 1.4137 - val_accuracy: 0.4950\n"
     ]
    }
   ],
   "source": [
    "# Train the model with different optimizers\n",
    "\n",
    "sgd_optimizer = tf.keras.optimizers.SGD(learning_rate=0.01, momentum=0.9)\n",
    "rmsprop_optimizer = tf.keras.optimizers.RMSprop(learning_rate=0.001)\n",
    "adam_optimizer = tf.keras.optimizers.Adam(learning_rate=0.001)\n",
    "\n",
    "# Train with SGD optimizer\n",
    "ann.compile(optimizer=sgd_optimizer, loss='sparse_categorical_crossentropy', metrics=['accuracy'])\n",
    "sgd_history = ann.fit(x_train, y_train, batch_size=64, epochs=5, validation_data=(x_test, y_test))\n",
    "\n",
    "# Train with RMSprop optimizer\n",
    "ann.compile(optimizer=rmsprop_optimizer, loss='sparse_categorical_crossentropy', metrics=['accuracy'])\n",
    "rmsprop_history = ann.fit(x_train, y_train, batch_size=64, epochs=5, validation_data=(x_test, y_test))\n",
    "\n",
    "# Train with Adam optimizer\n",
    "ann.compile(optimizer=adam_optimizer, loss='sparse_categorical_crossentropy', metrics=['accuracy'])\n",
    "adam_history = ann.fit(x_train, y_train, batch_size=64, epochs=5, validation_data=(x_test, y_test))\n"
   ]
  },
  {
   "cell_type": "markdown",
   "id": "664d8462",
   "metadata": {},
   "source": [
    "Comparing the performance of the different optimizers"
   ]
  },
  {
   "cell_type": "code",
   "execution_count": 18,
   "id": "39e839c3",
   "metadata": {},
   "outputs": [
    {
     "data": {
      "image/png": "[encoded data removed]",
      "text/plain": [
       "<Figure size 432x288 with 1 Axes>"
      ]
     },
     "metadata": {
      "needs_background": "light"
     },
     "output_type": "display_data"
    },
    {
     "data": {
      "image/png": "[encoded data removed]",
      "text/plain": [
       "<Figure size 432x288 with 1 Axes>"
      ]
     },
     "metadata": {
      "needs_background": "light"
     },
     "output_type": "display_data"
    }
   ],
   "source": [
    "import matplotlib.pyplot as plt\n",
    "\n",
    "# Compare accuracy\n",
    "plt.plot(sgd_history.history['accuracy'], label='SGD')\n",
    "plt.plot(rmsprop_history.history['accuracy'], label='RMSprop')\n",
    "plt.plot(adam_history.history['accuracy'], label='Adam')\n",
    "plt.xlabel('Epochs')\n",
    "plt.ylabel('Accuracy')\n",
    "plt.legend()\n",
    "plt.show()\n",
    "\n",
    "# Compare loss\n",
    "plt.plot(sgd_history.history['loss'], label='SGD')\n",
    "plt.plot(rmsprop_history.history['loss'], label='RMSprop')\n",
    "plt.plot(adam_history.history['loss'], label='Adam')\n",
    "plt.xlabel('Epochs')\n",
    "plt.ylabel('Loss')\n",
    "plt.legend()\n",
    "plt.show()"
   ]
  },
  {
   "cell_type": "markdown",
   "id": "0c0ba072",
   "metadata": {},
   "source": [
    "Above code uses an Artificial Neural Network (ANN) with fully connected layers for image classification on the CIFAR-10 dataset. It compares the performance of different optimizers by plotting accuracy and loss curves."
   ]
  },
  {
   "cell_type": "markdown",
   "id": "7e7dbea8",
   "metadata": {},
   "source": [
    "Now building a CNN to train our images"
   ]
  },
  {
   "cell_type": "code",
   "execution_count": 33,
   "id": "283b6596",
   "metadata": {},
   "outputs": [],
   "source": [
    "cnn = models.Sequential([\n",
    "    layers.Conv2D(filters=32, kernel_size=(3, 3), activation='relu', input_shape=(32, 32, 3)),\n",
    "    layers.MaxPooling2D((2, 2)),\n",
    "    \n",
    "    layers.Conv2D(filters=64, kernel_size=(3, 3), activation='relu'),\n",
    "    layers.MaxPooling2D((2, 2)),\n",
    "    \n",
    "    layers.Flatten(),\n",
    "    layers.Dense(64, activation='relu'),\n",
    "    layers.Dense(10, activation='softmax')\n",
    "])"
   ]
  },
  {
   "cell_type": "code",
   "execution_count": 34,
   "id": "a73a28b5",
   "metadata": {},
   "outputs": [],
   "source": [
    "cnn.compile(optimizer='adam',\n",
    "              loss='sparse_categorical_crossentropy',\n",
    "              metrics=['accuracy'])"
   ]
  },
  {
   "cell_type": "code",
   "execution_count": 35,
   "id": "8aa738d1",
   "metadata": {},
   "outputs": [
    {
     "name": "stdout",
     "output_type": "stream",
     "text": [
      "Epoch 1/5\n",
      "1563/1563 [==============================] - 35s 21ms/step - loss: 1.5557 - accuracy: 0.4366\n",
      "Epoch 2/5\n",
      "1563/1563 [==============================] - 33s 21ms/step - loss: 1.1808 - accuracy: 0.5823\n",
      "Epoch 3/5\n",
      "1563/1563 [==============================] - 32s 21ms/step - loss: 1.0344 - accuracy: 0.6374\n",
      "Epoch 4/5\n",
      "1563/1563 [==============================] - 32s 21ms/step - loss: 0.9548 - accuracy: 0.6680\n",
      "Epoch 5/5\n",
      "1563/1563 [==============================] - 32s 21ms/step - loss: 0.8926 - accuracy: 0.6896\n"
     ]
    },
    {
     "data": {
      "text/plain": [
       "<keras.callbacks.History at 0x20ae5689780>"
      ]
     },
     "execution_count": 35,
     "metadata": {},
     "output_type": "execute_result"
    }
   ],
   "source": [
    "cnn.fit(x_train, y_train, epochs=5)"
   ]
  },
  {
   "cell_type": "code",
   "execution_count": 36,
   "id": "1421108e",
   "metadata": {},
   "outputs": [],
   "source": [
    "cnn.compile(optimizer='adam',\n",
    "              loss='sparse_categorical_crossentropy',\n",
    "              metrics=['accuracy'])"
   ]
  },
  {
   "cell_type": "code",
   "execution_count": 37,
   "id": "beb34292",
   "metadata": {},
   "outputs": [
    {
     "name": "stdout",
     "output_type": "stream",
     "text": [
      "Epoch 1/5\n",
      "1563/1563 [==============================] - 33s 21ms/step - loss: 0.8451 - accuracy: 0.7073\n",
      "Epoch 2/5\n",
      "1563/1563 [==============================] - 32s 21ms/step - loss: 0.8015 - accuracy: 0.7225\n",
      "Epoch 3/5\n",
      "1563/1563 [==============================] - 33s 21ms/step - loss: 0.7672 - accuracy: 0.7332\n",
      "Epoch 4/5\n",
      "1563/1563 [==============================] - 33s 21ms/step - loss: 0.7335 - accuracy: 0.7439\n",
      "Epoch 5/5\n",
      "1563/1563 [==============================] - 32s 20ms/step - loss: 0.6980 - accuracy: 0.7585\n"
     ]
    },
    {
     "data": {
      "text/plain": [
       "<keras.callbacks.History at 0x20ae5c033a0>"
      ]
     },
     "execution_count": 37,
     "metadata": {},
     "output_type": "execute_result"
    }
   ],
   "source": [
    "cnn.fit(x_train, y_train, epochs=5)"
   ]
  },
  {
   "cell_type": "code",
   "execution_count": null,
   "id": "e8cd3ffd",
   "metadata": {},
   "outputs": [],
   "source": []
  }
 ],
 "metadata": {
  "kernelspec": {
   "display_name": "Python 3 (ipykernel)",
   "language": "python",
   "name": "python3"
  },
  "language_info": {
   "codemirror_mode": {
    "name": "ipython",
    "version": 3
   },
   "file_extension": ".py",
   "mimetype": "text/x-python",
   "name": "python",
   "nbconvert_exporter": "python",
   "pygments_lexer": "ipython3",
   "version": "3.10.4"
  }
 },
 "nbformat": 4,
 "nbformat_minor": 5
}
